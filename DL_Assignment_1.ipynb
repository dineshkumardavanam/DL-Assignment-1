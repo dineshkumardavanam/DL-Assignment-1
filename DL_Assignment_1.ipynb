{
  "nbformat": 4,
  "nbformat_minor": 0,
  "metadata": {
    "colab": {
      "provenance": [],
      "authorship_tag": "ABX9TyM6u8SiJfxGw5vfaU7p1qAf",
      "include_colab_link": true
    },
    "kernelspec": {
      "name": "python3",
      "display_name": "Python 3"
    },
    "language_info": {
      "name": "python"
    }
  },
  "cells": [
    {
      "cell_type": "markdown",
      "metadata": {
        "id": "view-in-github",
        "colab_type": "text"
      },
      "source": [
        "<a href=\"https://colab.research.google.com/github/dineshkumardavanam/DL-Assignment-1/blob/main/DL_Assignment_1.ipynb\" target=\"_parent\"><img src=\"https://colab.research.google.com/assets/colab-badge.svg\" alt=\"Open In Colab\"/></a>"
      ]
    },
    {
      "cell_type": "code",
      "execution_count": 1,
      "metadata": {
        "id": "c3sY_-laSb-l"
      },
      "outputs": [],
      "source": [
        "import numpy as np\n",
        "import matplotlib.pyplot as plt\n",
        "from tensorflow.keras.datasets import imdb\n",
        "from tensorflow.keras.preprocessing.sequence import pad_sequences\n",
        "from tensorflow.keras.models import Sequential\n",
        "from tensorflow.keras.layers import Embedding, LSTM, GRU, SimpleRNN, Dense\n",
        "from tensorflow.keras.utils import to_categorical"
      ]
    },
    {
      "cell_type": "code",
      "source": [
        "max_features = 10000"
      ],
      "metadata": {
        "id": "531Lsm4xShal"
      },
      "execution_count": 2,
      "outputs": []
    },
    {
      "cell_type": "code",
      "source": [
        "max_len = 500"
      ],
      "metadata": {
        "id": "qWuNwEerSnbm"
      },
      "execution_count": 4,
      "outputs": []
    },
    {
      "cell_type": "code",
      "source": [
        "(x_train, y_train), (x_test, y_test) = imdb.load_data(num_words=max_features)"
      ],
      "metadata": {
        "colab": {
          "base_uri": "https://localhost:8080/"
        },
        "id": "Gnv4gGHlSpiN",
        "outputId": "72ca88de-bf70-4bfb-8e7f-d4a9db38071d"
      },
      "execution_count": 5,
      "outputs": [
        {
          "output_type": "stream",
          "name": "stdout",
          "text": [
            "Downloading data from https://storage.googleapis.com/tensorflow/tf-keras-datasets/imdb.npz\n",
            "17464789/17464789 [==============================] - 0s 0us/step\n"
          ]
        }
      ]
    },
    {
      "cell_type": "code",
      "source": [
        "x_train = pad_sequences(x_train, maxlen=max_len)"
      ],
      "metadata": {
        "id": "RLrNehmHSsO5"
      },
      "execution_count": 8,
      "outputs": []
    },
    {
      "cell_type": "code",
      "source": [
        "x_test = pad_sequences(x_test, maxlen=max_len)"
      ],
      "metadata": {
        "id": "1k24spY-Su8j"
      },
      "execution_count": 7,
      "outputs": []
    },
    {
      "cell_type": "code",
      "source": [
        "def create_model(model_type):\n",
        "    model = Sequential()\n",
        "    model.add(Embedding(max_features, 32, input_length=max_len))\n",
        "    if model_type == 'LSTM':\n",
        "        model.add(LSTM(32))\n",
        "    elif model_type == 'GRU':\n",
        "        model.add(GRU(32))\n",
        "    elif model_type == 'RNN':\n",
        "        model.add(SimpleRNN(32))\n",
        "    model.add(Dense(1, activation='sigmoid'))\n",
        "    model.compile(optimizer='adam', loss='binary_crossentropy', metrics=['accuracy'])\n",
        "    return model"
      ],
      "metadata": {
        "id": "gtg77rOBSxmg"
      },
      "execution_count": 9,
      "outputs": []
    },
    {
      "cell_type": "code",
      "source": [
        "model_types = ['LSTM', 'GRU', 'RNN']"
      ],
      "metadata": {
        "id": "qhAUe_piS6_a"
      },
      "execution_count": 10,
      "outputs": []
    },
    {
      "cell_type": "code",
      "source": [
        "histories = []"
      ],
      "metadata": {
        "id": "I--uCjq2S-9U"
      },
      "execution_count": 11,
      "outputs": []
    },
    {
      "cell_type": "code",
      "source": [
        "plt.figure(figsize=(10, 6))"
      ],
      "metadata": {
        "colab": {
          "base_uri": "https://localhost:8080/",
          "height": 52
        },
        "id": "Csf5YbALTAi9",
        "outputId": "497698ab-4113-48cf-e239-2f3dab5f6b1f"
      },
      "execution_count": 12,
      "outputs": [
        {
          "output_type": "execute_result",
          "data": {
            "text/plain": [
              "<Figure size 1000x600 with 0 Axes>"
            ]
          },
          "metadata": {},
          "execution_count": 12
        },
        {
          "output_type": "display_data",
          "data": {
            "text/plain": [
              "<Figure size 1000x600 with 0 Axes>"
            ]
          },
          "metadata": {}
        }
      ]
    },
    {
      "cell_type": "code",
      "source": [
        "for model_type in model_types:\n",
        "    model = create_model(model_type)\n",
        "    history = model.fit(x_train, y_train, epochs=5, batch_size=128, validation_split=0.2, verbose=1)\n",
        "    plt.plot(history.history['accuracy'], label=f'{model_type} Accuracy')"
      ],
      "metadata": {
        "colab": {
          "base_uri": "https://localhost:8080/"
        },
        "id": "s8us98bCTCl8",
        "outputId": "5cf34d3f-ec6a-4ce8-9e00-7633d070bd12"
      },
      "execution_count": null,
      "outputs": [
        {
          "output_type": "stream",
          "name": "stdout",
          "text": [
            "Epoch 1/5\n",
            "157/157 [==============================] - 33s 198ms/step - loss: 0.4841 - accuracy: 0.7541 - val_loss: 0.3252 - val_accuracy: 0.8634\n",
            "Epoch 2/5\n",
            "157/157 [==============================] - 31s 197ms/step - loss: 0.2413 - accuracy: 0.9089 - val_loss: 0.2934 - val_accuracy: 0.8876\n",
            "Epoch 3/5\n",
            "157/157 [==============================] - 30s 193ms/step - loss: 0.1760 - accuracy: 0.9381 - val_loss: 0.2975 - val_accuracy: 0.8806\n",
            "Epoch 4/5\n",
            "157/157 [==============================] - 31s 196ms/step - loss: 0.1310 - accuracy: 0.9570 - val_loss: 0.3222 - val_accuracy: 0.8808\n",
            "Epoch 5/5\n",
            "157/157 [==============================] - 31s 197ms/step - loss: 0.1266 - accuracy: 0.9577 - val_loss: 0.3434 - val_accuracy: 0.8678\n",
            "Epoch 1/5\n",
            "157/157 [==============================] - 30s 181ms/step - loss: 0.5583 - accuracy: 0.6923 - val_loss: 0.3806 - val_accuracy: 0.8294\n",
            "Epoch 2/5\n",
            "157/157 [==============================] - 29s 183ms/step - loss: 0.2866 - accuracy: 0.8829 - val_loss: 0.3150 - val_accuracy: 0.8690\n",
            "Epoch 3/5\n",
            "157/157 [==============================] - 28s 180ms/step - loss: 0.1999 - accuracy: 0.9259 - val_loss: 0.3249 - val_accuracy: 0.8692\n",
            "Epoch 4/5\n",
            "157/157 [==============================] - 28s 179ms/step - loss: 0.1532 - accuracy: 0.9471 - val_loss: 0.3297 - val_accuracy: 0.8660\n",
            "Epoch 5/5\n",
            "157/157 [==============================] - 29s 184ms/step - loss: 0.1208 - accuracy: 0.9592 - val_loss: 0.3792 - val_accuracy: 0.8688\n",
            "Epoch 1/5\n",
            " 69/157 [============>.................] - ETA: 7s - loss: 0.6751 - accuracy: 0.5733"
          ]
        }
      ]
    },
    {
      "cell_type": "code",
      "source": [],
      "metadata": {
        "id": "5WkRnw2HTMnX"
      },
      "execution_count": null,
      "outputs": []
    }
  ]
}